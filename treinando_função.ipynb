{
  "nbformat": 4,
  "nbformat_minor": 0,
  "metadata": {
    "colab": {
      "name": "treinando_função",
      "provenance": [],
      "authorship_tag": "ABX9TyOvmtLh20iNxbtt5NxyMlS7",
      "include_colab_link": true
    },
    "kernelspec": {
      "name": "python3",
      "display_name": "Python 3"
    }
  },
  "cells": [
    {
      "cell_type": "markdown",
      "metadata": {
        "id": "view-in-github",
        "colab_type": "text"
      },
      "source": [
        "<a href=\"https://colab.research.google.com/github/shtsousa/projects/blob/main/treinando_fun%C3%A7%C3%A3o.ipynb\" target=\"_parent\"><img src=\"https://colab.research.google.com/assets/colab-badge.svg\" alt=\"Open In Colab\"/></a>"
      ]
    },
    {
      "cell_type": "code",
      "metadata": {
        "id": "dGIl67d8xogg"
      },
      "source": [
        "def calc():\r\n",
        "  print('''\r\n",
        "                  Calculator\r\n",
        "               \r\n",
        "\r\n",
        "      n1 - Sum\r\n",
        "      n2 - Subtract\r\n",
        "      n3 - Multiplies\r\n",
        "      n4 - Division            ''')\r\n",
        "  str (input('Choose your option: '))\r\n",
        "  p1 = soma(),\r\n",
        "  p2 = sub(),\r\n",
        "  p3 = mult(),\r\n",
        "  p4 = div(),\r\n",
        "   \r\n",
        "\r\n",
        "def soma():\r\n",
        "  n1 = float (input(\"Insert number:\\n\"))\r\n",
        "  n2 = float (input(\"Inser number:\\n\")) \r\n",
        "  n3 = n1 + n2\r\n",
        "  print('Result: ', n3)\r\n",
        "  return calc()\r\n",
        "\r\n",
        "def sub():\r\n",
        "  n1 = float (input(\"Insert number:\\n\"))\r\n",
        "  n2 = float (input(\"Inser number:\\n\")) \r\n",
        "  n3 = n1 - n2\r\n",
        "  print('Result: ', n3)\r\n",
        "  return calc()\r\n",
        "\r\n",
        "\r\n",
        "def mult():\r\n",
        "  n1 = float (input(\"Insert number:\\n\"))\r\n",
        "  n2 = float (input(\"Inser number:\\n\")) \r\n",
        "  n3 = n1 * n2\r\n",
        "  print('Result: ', n3)\r\n",
        "  return calc()\r\n",
        "\r\n",
        "\r\n",
        "def div():\r\n",
        "  n1 = float (input(\"Insert number:\\n\"))\r\n",
        "  n2 = float (input(\"Inser number:\\n\")) \r\n",
        "  n3 = n1 / n2\r\n",
        "  print('Result: ', n3)\r\n",
        "  return calc()  \r\n",
        "\r\n",
        "calc()\r\n",
        "\r\n",
        "\r\n",
        "\r\n"
      ],
      "execution_count": null,
      "outputs": []
    }
  ]
}