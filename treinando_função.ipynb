{
  "nbformat": 4,
  "nbformat_minor": 0,
  "metadata": {
    "colab": {
      "name": "treinando_função",
      "provenance": [],
      "collapsed_sections": [],
      "authorship_tag": "ABX9TyMMQGdrN4Bwa577URL9wOJJ",
      "include_colab_link": true
    },
    "kernelspec": {
      "name": "python3",
      "display_name": "Python 3"
    }
  },
  "cells": [
    {
      "cell_type": "markdown",
      "metadata": {
        "id": "view-in-github",
        "colab_type": "text"
      },
      "source": [
        "<a href=\"https://colab.research.google.com/github/shtsousa/projects/blob/main/treinando_fun%C3%A7%C3%A3o.ipynb\" target=\"_parent\"><img src=\"https://colab.research.google.com/assets/colab-badge.svg\" alt=\"Open In Colab\"/></a>"
      ]
    },
    {
      "cell_type": "code",
      "metadata": {
        "id": "dGIl67d8xogg"
      },
      "source": [
        "def calc():\r\n",
        "  print()\r\n",
        "  \r\n",
        "menu = int (input('\\tCalculator\\n\\n1 - Sum\\n2 - Subtract\\n3 - Multiplies\\n4 - Division\\t\\t\\nChoose your option: '))\r\n",
        "  \r\n",
        "    \r\n",
        "if menu == 1:\r\n",
        "  soma()\r\n",
        "elif menu == 2:\r\n",
        "  sub()  \r\n",
        "elif menu == 3:\r\n",
        "  mult()\r\n",
        "elif menu == 4:\r\n",
        "  div()\r\n",
        "else:\r\n",
        "   print(\"Number error\")\r\n",
        "  \r\n",
        "\r\n",
        "def soma():\r\n",
        "  n1 = float (input(\"Insert number:\\n\"))\r\n",
        "  n2 = float (input(\"Inser number:\\n\")) \r\n",
        "  n3 = n1 + n2\r\n",
        "  print('Result: ', n3)\r\n",
        "  return calc()\r\n",
        "\r\n",
        "def sub():\r\n",
        "  n1 = float (input(\"Insert number:\\n\"))\r\n",
        "  n2 = float (input(\"Inser number:\\n\")) \r\n",
        "  n3 = n1 - n2\r\n",
        "  print('Result: ', n3)\r\n",
        "  return calc()\r\n",
        "\r\n",
        "\r\n",
        "def mult():\r\n",
        "  n1 = float (input(\"Insert number:\\n\"))\r\n",
        "  n2 = float (input(\"Inser number:\\n\")) \r\n",
        "  n3 = n1 * n2\r\n",
        "  print('Result: ', n3)\r\n",
        "  return calc()\r\n",
        "\r\n",
        "\r\n",
        "def div():\r\n",
        "  n1 = float (input(\"Insert number:\\n\"))\r\n",
        "  n2 = float (input(\"Inser number:\\n\")) \r\n",
        "  n3 = n1 / n2\r\n",
        "  print('Result: ', n3)\r\n",
        "  return calc()  \r\n",
        "\r\n",
        "calc()\r\n",
        "\r\n",
        "\r\n",
        "\r\n"
      ],
      "execution_count": null,
      "outputs": []
    }
  ]
}